{
 "cells": [
  {
   "cell_type": "code",
   "execution_count": 1,
   "metadata": {},
   "outputs": [
    {
     "data": {
      "text/html": [
       "<div>\n",
       "<style scoped>\n",
       "    .dataframe tbody tr th:only-of-type {\n",
       "        vertical-align: middle;\n",
       "    }\n",
       "\n",
       "    .dataframe tbody tr th {\n",
       "        vertical-align: top;\n",
       "    }\n",
       "\n",
       "    .dataframe thead th {\n",
       "        text-align: right;\n",
       "    }\n",
       "</style>\n",
       "<table border=\"1\" class=\"dataframe\">\n",
       "  <thead>\n",
       "    <tr style=\"text-align: right;\">\n",
       "      <th></th>\n",
       "      <th>MSZoning</th>\n",
       "      <th>LotArea</th>\n",
       "      <th>Neighborhood</th>\n",
       "      <th>BldgType</th>\n",
       "      <th>OverallQual</th>\n",
       "      <th>OverallCond</th>\n",
       "      <th>YearBuilt</th>\n",
       "      <th>YearRemodAdd</th>\n",
       "      <th>RoofStyle</th>\n",
       "      <th>TotalBsmtSF</th>\n",
       "      <th>HeatingQC</th>\n",
       "      <th>CentralAir</th>\n",
       "      <th>GrLivArea</th>\n",
       "      <th>TotRmsAbvGrd</th>\n",
       "      <th>GarageCars</th>\n",
       "      <th>YrSold</th>\n",
       "      <th>SalePrice</th>\n",
       "    </tr>\n",
       "  </thead>\n",
       "  <tbody>\n",
       "    <tr>\n",
       "      <td>230</td>\n",
       "      <td>RL</td>\n",
       "      <td>5000</td>\n",
       "      <td>BrkSide</td>\n",
       "      <td>1Fam</td>\n",
       "      <td>1</td>\n",
       "      <td>3</td>\n",
       "      <td>1946</td>\n",
       "      <td>1950</td>\n",
       "      <td>Gable</td>\n",
       "      <td>0</td>\n",
       "      <td>Fa</td>\n",
       "      <td>N</td>\n",
       "      <td>334</td>\n",
       "      <td>2</td>\n",
       "      <td>0</td>\n",
       "      <td>2007</td>\n",
       "      <td>39300</td>\n",
       "    </tr>\n",
       "    <tr>\n",
       "      <td>103</td>\n",
       "      <td>RL</td>\n",
       "      <td>8400</td>\n",
       "      <td>SWISU</td>\n",
       "      <td>1Fam</td>\n",
       "      <td>2</td>\n",
       "      <td>5</td>\n",
       "      <td>1920</td>\n",
       "      <td>1950</td>\n",
       "      <td>Gable</td>\n",
       "      <td>290</td>\n",
       "      <td>TA</td>\n",
       "      <td>N</td>\n",
       "      <td>438</td>\n",
       "      <td>3</td>\n",
       "      <td>1</td>\n",
       "      <td>2009</td>\n",
       "      <td>60000</td>\n",
       "    </tr>\n",
       "    <tr>\n",
       "      <td>363</td>\n",
       "      <td>RM</td>\n",
       "      <td>6324</td>\n",
       "      <td>BrkSide</td>\n",
       "      <td>1Fam</td>\n",
       "      <td>4</td>\n",
       "      <td>6</td>\n",
       "      <td>1927</td>\n",
       "      <td>1950</td>\n",
       "      <td>Gable</td>\n",
       "      <td>520</td>\n",
       "      <td>Fa</td>\n",
       "      <td>N</td>\n",
       "      <td>520</td>\n",
       "      <td>4</td>\n",
       "      <td>1</td>\n",
       "      <td>2008</td>\n",
       "      <td>68500</td>\n",
       "    </tr>\n",
       "    <tr>\n",
       "      <td>424</td>\n",
       "      <td>RL</td>\n",
       "      <td>9098</td>\n",
       "      <td>Edwards</td>\n",
       "      <td>1Fam</td>\n",
       "      <td>4</td>\n",
       "      <td>7</td>\n",
       "      <td>1920</td>\n",
       "      <td>2002</td>\n",
       "      <td>Gable</td>\n",
       "      <td>528</td>\n",
       "      <td>Ex</td>\n",
       "      <td>Y</td>\n",
       "      <td>605</td>\n",
       "      <td>5</td>\n",
       "      <td>0</td>\n",
       "      <td>2007</td>\n",
       "      <td>86000</td>\n",
       "    </tr>\n",
       "    <tr>\n",
       "      <td>518</td>\n",
       "      <td>RM</td>\n",
       "      <td>6000</td>\n",
       "      <td>BrkSide</td>\n",
       "      <td>1Fam</td>\n",
       "      <td>5</td>\n",
       "      <td>7</td>\n",
       "      <td>1921</td>\n",
       "      <td>1950</td>\n",
       "      <td>Gable</td>\n",
       "      <td>616</td>\n",
       "      <td>Gd</td>\n",
       "      <td>Y</td>\n",
       "      <td>616</td>\n",
       "      <td>4</td>\n",
       "      <td>1</td>\n",
       "      <td>2006</td>\n",
       "      <td>89000</td>\n",
       "    </tr>\n",
       "  </tbody>\n",
       "</table>\n",
       "</div>"
      ],
      "text/plain": [
       "    MSZoning  LotArea Neighborhood BldgType  OverallQual  OverallCond  \\\n",
       "230       RL     5000      BrkSide     1Fam            1            3   \n",
       "103       RL     8400        SWISU     1Fam            2            5   \n",
       "363       RM     6324      BrkSide     1Fam            4            6   \n",
       "424       RL     9098      Edwards     1Fam            4            7   \n",
       "518       RM     6000      BrkSide     1Fam            5            7   \n",
       "\n",
       "     YearBuilt  YearRemodAdd RoofStyle  TotalBsmtSF HeatingQC CentralAir  \\\n",
       "230       1946          1950     Gable            0        Fa          N   \n",
       "103       1920          1950     Gable          290        TA          N   \n",
       "363       1927          1950     Gable          520        Fa          N   \n",
       "424       1920          2002     Gable          528        Ex          Y   \n",
       "518       1921          1950     Gable          616        Gd          Y   \n",
       "\n",
       "     GrLivArea  TotRmsAbvGrd  GarageCars  YrSold  SalePrice  \n",
       "230        334             2           0    2007      39300  \n",
       "103        438             3           1    2009      60000  \n",
       "363        520             4           1    2008      68500  \n",
       "424        605             5           0    2007      86000  \n",
       "518        616             4           1    2006      89000  "
      ]
     },
     "execution_count": 1,
     "metadata": {},
     "output_type": "execute_result"
    }
   ],
   "source": [
    "import pandas as pd\n",
    "\n",
    "df = pd.read_csv('SetFiltered.csv', delimiter=\";\")\n",
    "df = df.sort_values(by=['GrLivArea'], ascending=True)\n",
    "df.head()"
   ]
  },
  {
   "cell_type": "code",
   "execution_count": 13,
   "metadata": {},
   "outputs": [
    {
     "data": {
      "text/html": [
       "<div>\n",
       "<style scoped>\n",
       "    .dataframe tbody tr th:only-of-type {\n",
       "        vertical-align: middle;\n",
       "    }\n",
       "\n",
       "    .dataframe tbody tr th {\n",
       "        vertical-align: top;\n",
       "    }\n",
       "\n",
       "    .dataframe thead th {\n",
       "        text-align: right;\n",
       "    }\n",
       "</style>\n",
       "<table border=\"1\" class=\"dataframe\">\n",
       "  <thead>\n",
       "    <tr style=\"text-align: right;\">\n",
       "      <th></th>\n",
       "      <th>LotArea</th>\n",
       "      <th>OverallQual</th>\n",
       "      <th>OverallCond</th>\n",
       "      <th>YearBuilt</th>\n",
       "      <th>YearRemodAdd</th>\n",
       "      <th>TotalBsmtSF</th>\n",
       "      <th>GrLivArea</th>\n",
       "      <th>TotRmsAbvGrd</th>\n",
       "      <th>GarageCars</th>\n",
       "      <th>YrSold</th>\n",
       "      <th>SalePrice</th>\n",
       "    </tr>\n",
       "  </thead>\n",
       "  <tbody>\n",
       "    <tr>\n",
       "      <td>count</td>\n",
       "      <td>900.000000</td>\n",
       "      <td>900.000000</td>\n",
       "      <td>900.000000</td>\n",
       "      <td>900.000000</td>\n",
       "      <td>900.000000</td>\n",
       "      <td>900.000000</td>\n",
       "      <td>900.000000</td>\n",
       "      <td>900.000000</td>\n",
       "      <td>900.000000</td>\n",
       "      <td>900.000000</td>\n",
       "      <td>900.000000</td>\n",
       "    </tr>\n",
       "    <tr>\n",
       "      <td>mean</td>\n",
       "      <td>10629.817778</td>\n",
       "      <td>6.014444</td>\n",
       "      <td>5.652222</td>\n",
       "      <td>1969.347778</td>\n",
       "      <td>1984.185556</td>\n",
       "      <td>1028.166667</td>\n",
       "      <td>1487.441111</td>\n",
       "      <td>6.415556</td>\n",
       "      <td>1.745556</td>\n",
       "      <td>2007.896667</td>\n",
       "      <td>176184.454444</td>\n",
       "    </tr>\n",
       "    <tr>\n",
       "      <td>std</td>\n",
       "      <td>9947.088936</td>\n",
       "      <td>1.336912</td>\n",
       "      <td>1.151555</td>\n",
       "      <td>29.573049</td>\n",
       "      <td>20.195265</td>\n",
       "      <td>403.019702</td>\n",
       "      <td>504.588271</td>\n",
       "      <td>1.601786</td>\n",
       "      <td>0.715887</td>\n",
       "      <td>1.306010</td>\n",
       "      <td>71412.482393</td>\n",
       "    </tr>\n",
       "    <tr>\n",
       "      <td>min</td>\n",
       "      <td>1300.000000</td>\n",
       "      <td>1.000000</td>\n",
       "      <td>1.000000</td>\n",
       "      <td>1872.000000</td>\n",
       "      <td>1950.000000</td>\n",
       "      <td>0.000000</td>\n",
       "      <td>334.000000</td>\n",
       "      <td>2.000000</td>\n",
       "      <td>0.000000</td>\n",
       "      <td>2006.000000</td>\n",
       "      <td>39300.000000</td>\n",
       "    </tr>\n",
       "    <tr>\n",
       "      <td>25%</td>\n",
       "      <td>7432.250000</td>\n",
       "      <td>5.000000</td>\n",
       "      <td>5.000000</td>\n",
       "      <td>1953.000000</td>\n",
       "      <td>1966.000000</td>\n",
       "      <td>790.250000</td>\n",
       "      <td>1102.750000</td>\n",
       "      <td>5.000000</td>\n",
       "      <td>1.000000</td>\n",
       "      <td>2007.000000</td>\n",
       "      <td>130000.000000</td>\n",
       "    </tr>\n",
       "    <tr>\n",
       "      <td>50%</td>\n",
       "      <td>9475.000000</td>\n",
       "      <td>6.000000</td>\n",
       "      <td>5.000000</td>\n",
       "      <td>1971.000000</td>\n",
       "      <td>1993.000000</td>\n",
       "      <td>968.500000</td>\n",
       "      <td>1443.500000</td>\n",
       "      <td>6.000000</td>\n",
       "      <td>2.000000</td>\n",
       "      <td>2008.000000</td>\n",
       "      <td>161000.000000</td>\n",
       "    </tr>\n",
       "    <tr>\n",
       "      <td>75%</td>\n",
       "      <td>11700.000000</td>\n",
       "      <td>7.000000</td>\n",
       "      <td>6.000000</td>\n",
       "      <td>1998.000000</td>\n",
       "      <td>2002.000000</td>\n",
       "      <td>1249.500000</td>\n",
       "      <td>1750.500000</td>\n",
       "      <td>7.000000</td>\n",
       "      <td>2.000000</td>\n",
       "      <td>2009.000000</td>\n",
       "      <td>205000.000000</td>\n",
       "    </tr>\n",
       "    <tr>\n",
       "      <td>max</td>\n",
       "      <td>164660.000000</td>\n",
       "      <td>10.000000</td>\n",
       "      <td>9.000000</td>\n",
       "      <td>2009.000000</td>\n",
       "      <td>2009.000000</td>\n",
       "      <td>3206.000000</td>\n",
       "      <td>4316.000000</td>\n",
       "      <td>12.000000</td>\n",
       "      <td>4.000000</td>\n",
       "      <td>2010.000000</td>\n",
       "      <td>755000.000000</td>\n",
       "    </tr>\n",
       "  </tbody>\n",
       "</table>\n",
       "</div>"
      ],
      "text/plain": [
       "             LotArea  OverallQual  OverallCond    YearBuilt  YearRemodAdd  \\\n",
       "count     900.000000   900.000000   900.000000   900.000000    900.000000   \n",
       "mean    10629.817778     6.014444     5.652222  1969.347778   1984.185556   \n",
       "std      9947.088936     1.336912     1.151555    29.573049     20.195265   \n",
       "min      1300.000000     1.000000     1.000000  1872.000000   1950.000000   \n",
       "25%      7432.250000     5.000000     5.000000  1953.000000   1966.000000   \n",
       "50%      9475.000000     6.000000     5.000000  1971.000000   1993.000000   \n",
       "75%     11700.000000     7.000000     6.000000  1998.000000   2002.000000   \n",
       "max    164660.000000    10.000000     9.000000  2009.000000   2009.000000   \n",
       "\n",
       "       TotalBsmtSF    GrLivArea  TotRmsAbvGrd  GarageCars       YrSold  \\\n",
       "count   900.000000   900.000000    900.000000  900.000000   900.000000   \n",
       "mean   1028.166667  1487.441111      6.415556    1.745556  2007.896667   \n",
       "std     403.019702   504.588271      1.601786    0.715887     1.306010   \n",
       "min       0.000000   334.000000      2.000000    0.000000  2006.000000   \n",
       "25%     790.250000  1102.750000      5.000000    1.000000  2007.000000   \n",
       "50%     968.500000  1443.500000      6.000000    2.000000  2008.000000   \n",
       "75%    1249.500000  1750.500000      7.000000    2.000000  2009.000000   \n",
       "max    3206.000000  4316.000000     12.000000    4.000000  2010.000000   \n",
       "\n",
       "           SalePrice  \n",
       "count     900.000000  \n",
       "mean   176184.454444  \n",
       "std     71412.482393  \n",
       "min     39300.000000  \n",
       "25%    130000.000000  \n",
       "50%    161000.000000  \n",
       "75%    205000.000000  \n",
       "max    755000.000000  "
      ]
     },
     "execution_count": 13,
     "metadata": {},
     "output_type": "execute_result"
    }
   ],
   "source": [
    "#df.describe(include='all')\n",
    "df.describe()"
   ]
  },
  {
   "cell_type": "code",
   "execution_count": 3,
   "metadata": {},
   "outputs": [
    {
     "name": "stdout",
     "output_type": "stream",
     "text": [
      "<class 'pandas.core.frame.DataFrame'>\n",
      "Int64Index: 900 entries, 230 to 893\n",
      "Data columns (total 17 columns):\n",
      "MSZoning        900 non-null object\n",
      "LotArea         900 non-null int64\n",
      "Neighborhood    900 non-null object\n",
      "BldgType        900 non-null object\n",
      "OverallQual     900 non-null int64\n",
      "OverallCond     900 non-null int64\n",
      "YearBuilt       900 non-null int64\n",
      "YearRemodAdd    900 non-null int64\n",
      "RoofStyle       900 non-null object\n",
      "TotalBsmtSF     900 non-null int64\n",
      "HeatingQC       900 non-null object\n",
      "CentralAir      900 non-null object\n",
      "GrLivArea       900 non-null int64\n",
      "TotRmsAbvGrd    900 non-null int64\n",
      "GarageCars      900 non-null int64\n",
      "YrSold          900 non-null int64\n",
      "SalePrice       900 non-null int64\n",
      "dtypes: int64(11), object(6)\n",
      "memory usage: 126.6+ KB\n"
     ]
    }
   ],
   "source": [
    "df.info()"
   ]
  },
  {
   "cell_type": "code",
   "execution_count": 4,
   "metadata": {},
   "outputs": [],
   "source": [
    "import matplotlib.pyplot as plt\n",
    "import numpy as np\n",
    "\n",
    "x = df['SalePrice']\n"
   ]
  },
  {
   "cell_type": "code",
   "execution_count": 5,
   "metadata": {
    "scrolled": true
   },
   "outputs": [
    {
     "data": {
      "text/plain": [
       "Text(0.5, 0, 'Price')"
      ]
     },
     "execution_count": 5,
     "metadata": {},
     "output_type": "execute_result"
    },
    {
     "data": {
      "image/png": "[encoded data removed]",
      "text/plain": [
       "<Figure size 432x288 with 1 Axes>"
      ]
     },
     "metadata": {
      "needs_background": "light"
     },
     "output_type": "display_data"
    }
   ],
   "source": [
    "import matplotlib.pyplot as plt\n",
    "import numpy as np\n",
    "import scipy.stats as st\n",
    "\n",
    "x = df['SalePrice']\n",
    "\n",
    "plt.hist(x, density=True, bins=30, label=\"Data\")\n",
    "mn, mx = plt.xlim()\n",
    "plt.xlim(mn, mx)\n",
    "kde_xs = np.linspace(mn, mx, 301)\n",
    "kde = st.gaussian_kde(x)\n",
    "\n",
    "plt.plot(kde_xs, kde.pdf(kde_xs), label=\"PDF\")\n",
    "plt.legend(loc=\"upper right\")\n",
    "plt.ylabel('Probability')\n",
    "plt.xlabel('Price')"
   ]
  },
  {
   "cell_type": "code",
   "execution_count": 6,
   "metadata": {
    "scrolled": true
   },
   "outputs": [
    {
     "data": {
      "text/plain": [
       "Text(0.5, 0, 'Price')"
      ]
     },
     "execution_count": 6,
     "metadata": {},
     "output_type": "execute_result"
    },
    {
     "data": {
      "image/png": "[encoded data removed]",
      "text/plain": [
       "<Figure size 432x288 with 1 Axes>"
      ]
     },
     "metadata": {
      "needs_background": "light"
     },
     "output_type": "display_data"
    }
   ],
   "source": [
    "x = df['YearBuilt']\n",
    "\n",
    "plt.hist(x, density=True, bins=30, label=\"Data\")\n",
    "mn, mx = plt.xlim()\n",
    "plt.xlim(mn, mx)\n",
    "kde_xs = np.linspace(mn, mx, 301)\n",
    "kde = st.gaussian_kde(x)\n",
    "\n",
    "plt.plot(kde_xs, kde.pdf(kde_xs), label=\"PDF\")\n",
    "plt.legend(loc=\"upper right\")\n",
    "plt.ylabel('Probability')\n",
    "plt.xlabel('Price')"
   ]
  },
  {
   "cell_type": "code",
   "execution_count": 7,
   "metadata": {},
   "outputs": [
    {
     "data": {
      "text/plain": [
       "Text(0.5, 0, 'Area')"
      ]
     },
     "execution_count": 7,
     "metadata": {},
     "output_type": "execute_result"
    },
    {
     "data": {
      "image/png": "[encoded data removed]",
      "text/plain": [
       "<Figure size 432x288 with 1 Axes>"
      ]
     },
     "metadata": {
      "needs_background": "light"
     },
     "output_type": "display_data"
    }
   ],
   "source": [
    "x = df['LotArea']\n",
    "\n",
    "plt.hist(x, density=True, bins=30, label=\"Data\")\n",
    "mn, mx = plt.xlim()\n",
    "plt.xlim(mn, mx)\n",
    "kde_xs = np.linspace(mn, mx, 301)\n",
    "kde = st.gaussian_kde(x)\n",
    "\n",
    "plt.plot(kde_xs, kde.pdf(kde_xs), label=\"PDF\")\n",
    "plt.legend(loc=\"upper right\")\n",
    "plt.ylabel('Probability')\n",
    "plt.xlabel('Area')"
   ]
  },
  {
   "cell_type": "code",
   "execution_count": 8,
   "metadata": {
    "scrolled": true
   },
   "outputs": [
    {
     "data": {
      "text/plain": [
       "Text(0.5, 0, 'Airconditioning')"
      ]
     },
     "execution_count": 8,
     "metadata": {},
     "output_type": "execute_result"
    },
    {
     "data": {
      "image/png": "[encoded data removed]",
      "text/plain": [
       "<Figure size 432x288 with 1 Axes>"
      ]
     },
     "metadata": {
      "needs_background": "light"
     },
     "output_type": "display_data"
    }
   ],
   "source": [
    "x = df['CentralAir']\n",
    "\n",
    "plt.hist(x, bins=2, label=\"Data\")\n",
    "mn, mx = plt.xlim()\n",
    "plt.xlim(mn, mx)\n",
    "\n",
    "plt.legend(loc=\"upper right\")\n",
    "plt.ylabel('Probability')\n",
    "plt.xlabel('Airconditioning')"
   ]
  },
  {
   "cell_type": "code",
   "execution_count": 9,
   "metadata": {},
   "outputs": [
    {
     "data": {
      "text/plain": [
       "Text(0.5, 0, 'Rooms (does not include bathroom)')"
      ]
     },
     "execution_count": 9,
     "metadata": {},
     "output_type": "execute_result"
    },
    {
     "data": {
      "image/png": "[encoded data removed]",
      "text/plain": [
       "<Figure size 432x288 with 1 Axes>"
      ]
     },
     "metadata": {
      "needs_background": "light"
     },
     "output_type": "display_data"
    }
   ],
   "source": [
    "x = df['OverallCond']\n",
    "\n",
    "plt.hist(x, label=\"Data\")\n",
    "mn, mx = plt.xlim()\n",
    "plt.xlim(mn, mx)\n",
    "\n",
    "plt.legend(loc=\"upper right\")\n",
    "plt.ylabel('Probability')\n",
    "plt.xlabel('Rooms (does not include bathroom)')"
   ]
  },
  {
   "cell_type": "code",
   "execution_count": 10,
   "metadata": {},
   "outputs": [
    {
     "data": {
      "text/plain": [
       "Text(0.5, 0, 'Rooms (does not include bathroom)')"
      ]
     },
     "execution_count": 10,
     "metadata": {},
     "output_type": "execute_result"
    },
    {
     "data": {
      "image/png": "[encoded data removed]",
      "text/plain": [
       "<Figure size 432x288 with 1 Axes>"
      ]
     },
     "metadata": {
      "needs_background": "light"
     },
     "output_type": "display_data"
    }
   ],
   "source": [
    "x = df['TotRmsAbvGrd']\n",
    "\n",
    "plt.hist(x, label=\"Data\")\n",
    "mn, mx = plt.xlim()\n",
    "plt.xlim(mn, mx)\n",
    "\n",
    "plt.legend(loc=\"upper right\")\n",
    "plt.ylabel('Probability')\n",
    "plt.xlabel('Rooms (does not include bathroom)')"
   ]
  },
  {
   "cell_type": "code",
   "execution_count": 11,
   "metadata": {},
   "outputs": [
    {
     "data": {
      "image/png": "[encoded data removed]",
      "text/plain": [
       "<Figure size 432x288 with 1 Axes>"
      ]
     },
     "metadata": {
      "needs_background": "light"
     },
     "output_type": "display_data"
    }
   ],
   "source": [
    "fig = plt.figure()\n",
    "ax = plt.axes()\n",
    "\n",
    "x = df['GrLivArea']\n",
    "y = df['SalePrice']\n",
    "\n",
    "ax.plot(x, y);"
   ]
  }
 ],
 "metadata": {
  "kernelspec": {
   "display_name": "Python 3",
   "language": "python",
   "name": "python3"
  },
  "language_info": {
   "codemirror_mode": {
    "name": "ipython",
    "version": 3
   },
   "file_extension": ".py",
   "mimetype": "text/x-python",
   "name": "python",
   "nbconvert_exporter": "python",
   "pygments_lexer": "ipython3",
   "version": "3.7.4"
  }
 },
 "nbformat": 4,
 "nbformat_minor": 2
}
