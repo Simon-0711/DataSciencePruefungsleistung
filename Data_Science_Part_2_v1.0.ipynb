{
 "cells": [
  {
   "cell_type": "markdown",
   "source": [
    "## Teil 2\n",
    "\n",
    "Folgende Regressionsarten werden verwendet um eine Vorhersage des SalePrice zu erstellen:\n",
    "* Lineare Regression\n",
    "* Ridge\n",
    "* SGDRegressor"
   ],
   "metadata": {
    "collapsed": false
   }
  },
  {
   "cell_type": "code",
   "execution_count": 168,
   "outputs": [],
   "source": [
    "import numpy as np\n",
    "import pandas as pd\n",
    "import seaborn as sns\n",
    "import matplotlib.pyplot as plt\n",
    "from sklearn.pipeline import Pipeline\n",
    "from sklearn.preprocessing import RobustScaler\n",
    "from sklearn.preprocessing import OneHotEncoder\n",
    "from sklearn.model_selection import cross_validate\n",
    "from sklearn.compose import make_column_transformer\n",
    "from sklearn.model_selection import train_test_split\n",
    "from sklearn.metrics import r2_score, mean_squared_error, max_error\n",
    "from sklearn.linear_model import LinearRegression, SGDRegressor, Ridge\n",
    "\n",
    "# prevent deprecation warnings\n",
    "import warnings\n",
    "warnings.filterwarnings('ignore')"
   ],
   "metadata": {
    "collapsed": false,
    "pycharm": {
     "name": "#%%\n",
     "is_executing": false
    }
   }
  },
  {
   "cell_type": "code",
   "execution_count": 169,
   "outputs": [],
   "source": [
    "# gets dataFrame from file\n",
    "def read_data(path):\n",
    "    df = pd.read_csv(path, sep=\";\")\n",
    "    return df\n",
    "\n",
    "# scaling numerical values and turning objects into numerical values\n",
    "def scale_and_convert_columns(df, model):\n",
    "    categoricalCols = []\n",
    "    for i in range(len(df.columns)):\n",
    "        if (df.dtypes[i] == object):\n",
    "            categoricalCols.append(i)\n",
    "    numericalCols = []\n",
    "    for i in range(len(df.columns)):\n",
    "        if (df.dtypes[i] == 'int64' ):\n",
    "            numericalCols.append(i)        \n",
    "            \n",
    "    preprocessor = make_column_transformer((categoricalCols, OneHotEncoder(handle_unknown='ignore')),\n",
    "                                            (numericalCols, RobustScaler()))\n",
    "    pipe = Pipeline(steps=[('preprocessor', preprocessor),\n",
    "                      ('classifier', model)])\n",
    "    return pipe\n",
    "\n",
    "# calculates R2, MSE, RMSE, MAPE and MAX* for the given regression model\n",
    "def  train_model(path, model):\n",
    "    df = read_data(path)\n",
    "    pipe = scale_and_convert_columns(df.drop('SalePrice', axis=1), model)\n",
    "    \n",
    "    x = df.drop('SalePrice', axis=1).values #dimensions\n",
    "    y = df['SalePrice'].values #prediction\n",
    "    \n",
    "    x_train, x_test, y_train, y_test = train_test_split(x, y, random_state=42)\n",
    "    pipe.fit(x_train, y_train)\n",
    "    \n",
    "    predicted = pipe.predict(x_test)\n",
    "    expected = y_test\n",
    "    mse = mean_squared_error(expected, predicted)\n",
    "    result = {'Regression Type': type(model).__name__, 'R2': r2_score(expected, predicted), 'MSE': mean_squared_error(expected, predicted), \n",
    "            'RMSE' : np.sqrt(mse),'MAPE':  np.mean(np.abs((expected-predicted)/expected) * 100), \n",
    "            'MAX*': max_error(expected, predicted)}\n",
    "    return result, model\n",
    "\n",
    "def calc_prediction(path, model):\n",
    "    df = read_data(path)\n",
    "    pipe = scale_and_convert_columns(df.drop('SalePrice', axis=1), model)\n",
    "    \n",
    "    x = df.drop('SalePrice', axis=1).values #dimensions\n",
    "    y = df['SalePrice'].values #prediction\n",
    "    \n",
    "    # neg_root_mean_squared_error somehow doesn't work\n",
    "    scores = cross_validate(pipe, x, y, cv=5, scoring=['r2', 'neg_mean_squared_error', \n",
    "                                                      'neg_median_absolute_error', 'max_error' ])\n",
    "    return {'Regression Type': type(model).__name__,'R2': scores['test_r2'].mean(), 'MSE': scores['test_neg_mean_squared_error'].mean()*-1, \n",
    "            'RMSE' : np.sqrt(scores['test_neg_mean_squared_error'].mean()*-1),'MAPE': scores['test_neg_median_absolute_error'].mean()*-1, \n",
    "            'MAX*': scores['test_max_error'].mean()*-1}"
   ],
   "metadata": {
    "collapsed": false,
    "pycharm": {
     "name": "#%%\n",
     "is_executing": false
    }
   }
  },
  {
   "cell_type": "code",
   "execution_count": 170,
   "outputs": [
    {
     "data": {
      "text/plain": "    Regression Type        R2           MSE          RMSE      MAPE  \\\n0  LinearRegression  0.894020  3.173257e+08  17813.637951  9.013587   \n1             Ridge  0.897330  3.074155e+08  17533.267550  8.789771   \n2      SGDRegressor  0.901837  2.939201e+08  17144.098171  8.384517   \n\n           MAX*  \n0  64501.107612  \n1  61505.530768  \n2  50957.046653  ",
      "text/html": "<div>\n<style scoped>\n    .dataframe tbody tr th:only-of-type {\n        vertical-align: middle;\n    }\n\n    .dataframe tbody tr th {\n        vertical-align: top;\n    }\n\n    .dataframe thead th {\n        text-align: right;\n    }\n</style>\n<table border=\"1\" class=\"dataframe\">\n  <thead>\n    <tr style=\"text-align: right;\">\n      <th></th>\n      <th>Regression Type</th>\n      <th>R2</th>\n      <th>MSE</th>\n      <th>RMSE</th>\n      <th>MAPE</th>\n      <th>MAX*</th>\n    </tr>\n  </thead>\n  <tbody>\n    <tr>\n      <td>0</td>\n      <td>LinearRegression</td>\n      <td>0.894020</td>\n      <td>3.173257e+08</td>\n      <td>17813.637951</td>\n      <td>9.013587</td>\n      <td>64501.107612</td>\n    </tr>\n    <tr>\n      <td>1</td>\n      <td>Ridge</td>\n      <td>0.897330</td>\n      <td>3.074155e+08</td>\n      <td>17533.267550</td>\n      <td>8.789771</td>\n      <td>61505.530768</td>\n    </tr>\n    <tr>\n      <td>2</td>\n      <td>SGDRegressor</td>\n      <td>0.901837</td>\n      <td>2.939201e+08</td>\n      <td>17144.098171</td>\n      <td>8.384517</td>\n      <td>50957.046653</td>\n    </tr>\n  </tbody>\n</table>\n</div>"
     },
     "metadata": {},
     "output_type": "execute_result",
     "execution_count": 170
    },
    {
     "data": {
      "text/plain": "<Figure size 2160x432 with 5 Axes>",
      "image/png": "[encoded data removed]"
     },
     "metadata": {
      "needs_background": "light"
     },
     "output_type": "display_data"
    }
   ],
   "source": [
    "#calculate the score for each model\n",
    "path = 'cleanedSet.csv'\n",
    "regressionTypes = [LinearRegression(), Ridge(), SGDRegressor()]\n",
    "results = []\n",
    "models = []\n",
    "for r in regressionTypes:\n",
    "    result, model = train_model(path, r)\n",
    "    results.append(result)\n",
    "    models.append(model)\n",
    "\n",
    "df = pd.DataFrame(data=results, columns=['Regression Type', 'R2', 'MSE', 'RMSE', 'MAPE', 'MAX*'])\n",
    "\n",
    "columns = df.columns\n",
    "fx, axes = plt.subplots(1, len(columns)-1, sharey=False, figsize=(30,6))\n",
    "for i in range(1, len(columns)):\n",
    "    # could also use barplot instead of scatterplot\n",
    "    sns.scatterplot(x=df.columns[0], y=df.columns[i], data=df, ax=axes[i-1])\n",
    "    \n",
    "df.head()"
   ],
   "metadata": {
    "collapsed": false,
    "pycharm": {
     "name": "#%%\n",
     "is_executing": false
    }
   }
  },
  {
   "cell_type": "markdown",
   "source": [
    "## Ergebnis\n",
    "Generell ist bei den Ergebnissen wünschenswert, das der Bestimmtheitsgrad(R²) so hoch wie möglich ist und alle Fehlerwerte(MSE, RMSE, MAPE und MAX*) so niedrig wie möglich.\n",
    "\n",
    "Es wurden über 10 verschiedene Regressionsarten von scikit learn getestet und drei der besten (LinearRegression, Ridge und SGDRegressor) für einen genauen vergleich ausgewählt. Durch die Entfernung der Ausreiser konnte der Bestimmtheitsgrad aller 3 Regressionsarten um ca. 3-5% verbessert werden. An der Spitze aktuell der SGDRegressor mit einem Bestimmtheitsgrad von 90%. Bei genauerer Betrachtung fällt auf, das LinearRegression und Ridge sehr nahe beieinander liegen, wobei aber Ridge in allen Werten, besser abschneidet. Beide werden aber vom SGDRegressor geschlagen, vorallem im bereich maximum Error.   \n",
    "\n",
    "Anhand dieser Ergebnisse würden wir für eine Vorhersage der Verkaufspreise für den SGDRegressor entscheiden.\n",
    "\n",
    "### Analyseidee\n",
    "Um die eventuell Ergebnisse und den Prozess noch weiter zu Verbessern könnte versucht werden mehrere der Features zusammen zu fassen. Dies könnte sowohl den Lern- als auch den Vorhersageprozess beschleunigen."
   ],
   "metadata": {
    "collapsed": false,
    "pycharm": {
     "name": "#%% md\n"
    }
   }
  },
  {
   "cell_type": "markdown",
   "source": [
    "Eine Vorhersage zusätzlicher Daten kann im folgenden Codeteil vorgenommen werden. Hierfür muss nur die folgende path Variable angepasst werden."
   ],
   "metadata": {
    "collapsed": false,
    "pycharm": {
     "name": "#%% md\n"
    }
   }
  },
  {
   "cell_type": "code",
   "execution_count": 171,
   "outputs": [
    {
     "data": {
      "text/plain": "Empty DataFrame\nColumns: [Regression Type, R2, MSE, RMSE, MAPE, MAX*]\nIndex: []",
      "text/html": "<div>\n<style scoped>\n    .dataframe tbody tr th:only-of-type {\n        vertical-align: middle;\n    }\n\n    .dataframe tbody tr th {\n        vertical-align: top;\n    }\n\n    .dataframe thead th {\n        text-align: right;\n    }\n</style>\n<table border=\"1\" class=\"dataframe\">\n  <thead>\n    <tr style=\"text-align: right;\">\n      <th></th>\n      <th>Regression Type</th>\n      <th>R2</th>\n      <th>MSE</th>\n      <th>RMSE</th>\n      <th>MAPE</th>\n      <th>MAX*</th>\n    </tr>\n  </thead>\n  <tbody>\n  </tbody>\n</table>\n</div>"
     },
     "metadata": {},
     "output_type": "execute_result",
     "execution_count": 171
    }
   ],
   "source": [
    "path = ''\n",
    "results = []\n",
    "if path:\n",
    "    for m in models:\n",
    "        results.append(calc_prediction(path, m))\n",
    "\n",
    "df = pd.DataFrame(data=results, columns=['Regression Type', 'R2', 'MSE', 'RMSE', 'MAPE', 'MAX*'])\n",
    "df.head()"
   ],
   "metadata": {
    "collapsed": false,
    "pycharm": {
     "name": "#%%\n",
     "is_executing": false
    }
   }
  }
 ],
 "metadata": {
  "kernelspec": {
   "display_name": "Python 3",
   "language": "python",
   "name": "python3"
  },
  "language_info": {
   "codemirror_mode": {
    "name": "ipython",
    "version": 2
   },
   "file_extension": ".py",
   "mimetype": "text/x-python",
   "name": "python",
   "nbconvert_exporter": "python",
   "pygments_lexer": "ipython2",
   "version": "2.7.6"
  },
  "pycharm": {
   "stem_cell": {
    "cell_type": "raw",
    "source": [],
    "metadata": {
     "collapsed": false
    }
   }
  }
 },
 "nbformat": 4,
 "nbformat_minor": 0
}