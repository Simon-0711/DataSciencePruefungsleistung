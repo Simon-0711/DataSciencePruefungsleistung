{
 "cells": [
  {
   "cell_type": "markdown",
   "metadata": {},
   "source": [
    "### Teil 3 (7 + 5 P): \n",
    "Nutzen Sie drei Klassifikationsverfahren, um vorherzusagen, ob es eine Klimaanlage gibt (CentralAir). Eine davon soll ein Entscheidungsbaum sein, der auch grafisch ausgegeben werden kann (ggfs. separat in einem pdf). Gehen Sie analog zu Teil 2 vor, mit folgenden Unterschieden (siehe *): A, Statt Inferenz – Entscheidungsbaum beschreiben, B, Statt der o.g. Metriken (statt R2 etc.): Korrektklassifikationsrate (Accuracy), False-Positive und False-Negative-Rate."
   ]
  },
  {
   "cell_type": "markdown",
   "metadata": {},
   "source": [
    "We used the following three classification methods: \n",
    "- k-nearest-neighbors\n",
    "- SVM\n",
    "- ?"
   ]
  },
  {
   "cell_type": "code",
   "execution_count": 92,
   "metadata": {
    "scrolled": true
   },
   "outputs": [
    {
     "name": "stdout",
     "output_type": "stream",
     "text": [
      "Python Verison:  3.7.4 (default, Aug  9 2019, 18:34:13) [MSC v.1915 64 bit (AMD64)]\n",
      "Pandas Version:  0.25.1\n",
      "Numpy Version:  1.16.5\n",
      "Seaborn Version:  0.10.0\n"
     ]
    }
   ],
   "source": [
    "import sys\n",
    "import pandas as pd\n",
    "import numpy as np\n",
    "import seaborn as sns #visualisation\n",
    "import matplotlib.pyplot as plt #visualisation\n",
    "\n",
    "from sklearn.model_selection import train_test_split # for splitting the data\n",
    "from sklearn.preprocessing import StandardScaler  # feature scaling\n",
    "from sklearn.neighbors import KNeighborsClassifier  # knn model from sklearn\n",
    "from sklearn.metrics import classification_report, confusion_matrix  # evaluation of model\n",
    "from sklearn import svm\n",
    "\n",
    "import pickle  # conservation of model \n",
    "\n",
    "#import matplotlib\n",
    "%matplotlib inline \n",
    "\n",
    "# Seaborn customice visualisation\n",
    "sns.set(style=\"white\", palette=\"muted\", color_codes=True) \n",
    "\n",
    "print('Python Verison: ', sys.version)  # parentheses necessary in python 3.\n",
    "print('Pandas Version: ', pd.__version__)\n",
    "print('Numpy Version: ', np.__version__)\n",
    "print('Seaborn Version: ', sns.__version__)\n",
    "#print('Matplotlib Version: ', matplotlib.__version__)"
   ]
  },
  {
   "cell_type": "markdown",
   "metadata": {},
   "source": [
    "## K-nearest-neighbors classification\n",
    "Für die knn Klassifikation ist es sinnvoll, wenn nur numerische Spalten in dem Datensatz enthalten sind. Somit müssen die nicht numerischen Spalten gelöschte werden."
   ]
  },
  {
   "cell_type": "code",
   "execution_count": 56,
   "metadata": {
    "scrolled": false
   },
   "outputs": [],
   "source": [
    "# gets dataFrame from file\n",
    "def read_data(path):\n",
    "    df = pd.read_csv(path, sep=\";\")\n",
    "    \n",
    "    # renaming columns \n",
    "    df = df.rename(columns={\"HeatingQC\": \"Heating Quality and Condition\",\"BldgType\": \"Dwelling Type\", \"RoofStyle\":\"Roof Style\", \"MSZoning\":\"Zoning Classification\", \"LotArea\": \"Lot Area\", \"OverallQual\":\"Overall Quality\", \"OverallCond\":\"Overall Condition\",\"YearBuilt\":\"Year Built\", \"TotalBsmtSF\":\"Basement Area SF\", \"YearRemodAdd\": \"Remodel Date\", \"GrLivArea\": \"Ground Area SF\", \"TotRmsAbvGrd\": \"Total Rooms above Grade\", \"YrSold\": \"Year Sold\", \"GarageCars\": \"Garage Cars\", \"SalePrice\": \"Sale Price\"})\n",
    "    df.head()\n",
    "    \n",
    "    return df\n",
    "\n",
    "\n",
    "# seperates data by datatype\n",
    "def seperate_columns_by_datatype(df):\n",
    "    categoricalCols = []\n",
    "    for i in range(len(df.columns)):\n",
    "        if (df.dtypes[i] == object):\n",
    "            categoricalCols.append(df.columns[i])\n",
    "\n",
    "    numericalCols = []\n",
    "    for i in range(len(df.columns)):\n",
    "        if (df.dtypes[i] == \"int64\" ):\n",
    "            numericalCols.append(df.columns[i])\n",
    "\n",
    "    boolCols = []\n",
    "    for i in range(len(df.columns)):\n",
    "        if (df.dtypes[i] == \"bool\" ):\n",
    "            boolCols.append(df.columns[i])\n",
    "\n",
    "\n",
    "    print('categoricalCols:', categoricalCols)\n",
    "    print('numericalCols:', numericalCols)\n",
    "    print('boolCols:', boolCols)\n",
    "    \n",
    "    return categoricalCols, numericalCols, boolCols\n",
    "\n",
    "\n",
    "def remove_non_numerical_columns(df):\n",
    "    \n",
    "    categoricalCols, numericalCols, boolCols = seperate_columns_by_datatype(df)\n",
    "\n",
    "    # Remove non numerical columns and reaadd the column CentralAir\n",
    "    dfnumerical = df.drop(columns=categoricalCols)\n",
    "    dfnumerical = dfnumerical.join(df['CentralAir'])\n",
    "    \n",
    "    return dfnumerical\n",
    "\n",
    "\n",
    "def preprocessing_and_scaling(dfnumerical):\n",
    "    \n",
    "    # safe the columns and labels in two different variables\n",
    "    X = dfnumerical.iloc[:, :-1].values  # X contains all columns of the dataset but cantralAir\n",
    "    y = dfnumerical.iloc[:, 11].values   # y contains the labels for each row (Y or N), so if it has central air or not\n",
    "\n",
    "    # Splitting the dataset into a 80% train set and a 20% test set\n",
    "    X_train, X_test, y_train, y_test = train_test_split(X, y, test_size=0.20)\n",
    "\n",
    "    # Feature scaling for normalizing so that each feature contributes approximately proportionately to the final distance.\n",
    "    scaler = StandardScaler()\n",
    "    scaler.fit(X_train)\n",
    "\n",
    "    X_train = scaler.transform(X_train)\n",
    "    X_test = scaler.transform(X_test)\n",
    "    \n",
    "    return X_train, X_test, y_train, y_test\n",
    "\n",
    "\n",
    "def train_model(X_train, X_test, y_train, y_test):\n",
    "    \n",
    "    # initiate model with parameter K = 5 \n",
    "    knn_classifier = KNeighborsClassifier(n_neighbors=1)\n",
    "\n",
    "    # fit the model to the data\n",
    "    knn_classifier.fit(X_train, y_train)\n",
    "    \n",
    "    return knn_classifier\n",
    "\n",
    "\n",
    "def evaluate_model(model):\n",
    "\n",
    "    # make prediction on test data\n",
    "    y_pred = model.predict(X_test)\n",
    "    \n",
    "    # evaluating the trained model\n",
    "    print(confusion_matrix(y_test, y_pred))\n",
    "    print(classification_report(y_test, y_pred))\n",
    "\n",
    "    # calculate TP, TN, FP, FN\n",
    "    tn, fp, fn, tp = confusion_matrix(y_test, y_pred).ravel()\n",
    "    \n",
    "    # FP, FN, TN and TP in percent\n",
    "    FP_Perc = fp / (tp + fp)\n",
    "    FN_Perc = fn / (tn + fn)\n",
    "    TP_Perc = tp / (tp + fp)\n",
    "    TN_Perc = tn / (tn + fn)\n",
    "\n",
    "    dataPercent = np.array([[TP_Perc, FP_Perc], [FN_Perc, TN_Perc]])\n",
    "    confusion_Matric_Percent = pd.DataFrame(data=dataPercent, index=['Positive', 'Negative'], columns=['Positive', 'Negative'])\n",
    "\n",
    "    return confusion_Matric_Percent"
   ]
  },
  {
   "cell_type": "code",
   "execution_count": 127,
   "metadata": {},
   "outputs": [
    {
     "name": "stdout",
     "output_type": "stream",
     "text": [
      "categoricalCols: ['Zoning Classification', 'Neighborhood', 'Dwelling Type', 'Roof Style', 'Heating Quality and Condition', 'CentralAir']\n",
      "numericalCols: ['Lot Area', 'Overall Quality', 'Overall Condition', 'Year Built', 'Remodel Date', 'Basement Area SF', 'Ground Area SF', 'Total Rooms above Grade', 'Garage Cars', 'Year Sold', 'Sale Price']\n",
      "boolCols: []\n",
      "[[  4   1]\n",
      " [  2 134]]\n",
      "              precision    recall  f1-score   support\n",
      "\n",
      "           N       0.67      0.80      0.73         5\n",
      "           Y       0.99      0.99      0.99       136\n",
      "\n",
      "    accuracy                           0.98       141\n",
      "   macro avg       0.83      0.89      0.86       141\n",
      "weighted avg       0.98      0.98      0.98       141\n",
      "\n"
     ]
    },
    {
     "data": {
      "text/html": [
       "<div>\n",
       "<style scoped>\n",
       "    .dataframe tbody tr th:only-of-type {\n",
       "        vertical-align: middle;\n",
       "    }\n",
       "\n",
       "    .dataframe tbody tr th {\n",
       "        vertical-align: top;\n",
       "    }\n",
       "\n",
       "    .dataframe thead th {\n",
       "        text-align: right;\n",
       "    }\n",
       "</style>\n",
       "<table border=\"1\" class=\"dataframe\">\n",
       "  <thead>\n",
       "    <tr style=\"text-align: right;\">\n",
       "      <th></th>\n",
       "      <th>Positive</th>\n",
       "      <th>Negative</th>\n",
       "    </tr>\n",
       "  </thead>\n",
       "  <tbody>\n",
       "    <tr>\n",
       "      <td>Positive</td>\n",
       "      <td>0.992593</td>\n",
       "      <td>0.007407</td>\n",
       "    </tr>\n",
       "    <tr>\n",
       "      <td>Negative</td>\n",
       "      <td>0.333333</td>\n",
       "      <td>0.666667</td>\n",
       "    </tr>\n",
       "  </tbody>\n",
       "</table>\n",
       "</div>"
      ],
      "text/plain": [
       "          Positive  Negative\n",
       "Positive  0.992593  0.007407\n",
       "Negative  0.333333  0.666667"
      ]
     },
     "execution_count": 127,
     "metadata": {},
     "output_type": "execute_result"
    }
   ],
   "source": [
    "path = 'cleanedSet.csv'\n",
    "#path = 'SetFiltered.csv'\n",
    "\n",
    "#read the data\n",
    "df = read_data(path)\n",
    "\n",
    "#remove non numerical data\n",
    "dfnumerical = remove_non_numerical_columns(df)\n",
    "dfnumerical.head()\n",
    "\n",
    "# split and process data\n",
    "X_train, X_test, y_train, y_test = preprocessing_and_scaling(dfnumerical)\n",
    "\n",
    "# build model\n",
    "model = train_model(X_train, X_test, y_train, y_test)\n",
    "\n",
    "# evaluate model\n",
    "confusion_Matric_Percent = evaluate_model(model)\n",
    "confusion_Matric_Percent.head()"
   ]
  },
  {
   "cell_type": "markdown",
   "metadata": {},
   "source": [
    "Es ist zu sehen, dass der knn Klassifikator bereits sehr gute Ergebnisse lierfert ohne das hierfür eine aufwändige Datenverarbeitung stattfinden musste. Die Accuracy beträgt für das angepasste Modell die accuracy 98%."
   ]
  },
  {
   "cell_type": "markdown",
   "metadata": {},
   "source": [
    "### Saving the generated model"
   ]
  },
  {
   "cell_type": "code",
   "execution_count": 128,
   "metadata": {
    "scrolled": true
   },
   "outputs": [],
   "source": [
    "def save_model(model):\n",
    "    # specifying filename for model\n",
    "    filename='knn_model.sav'\n",
    "\n",
    "    # save the model in the created file only executed once\n",
    "    pickle.dump(model, open(filename, 'wb'))"
   ]
  },
  {
   "cell_type": "code",
   "execution_count": 129,
   "metadata": {},
   "outputs": [],
   "source": [
    "#save_model(model)"
   ]
  },
  {
   "cell_type": "code",
   "execution_count": 130,
   "metadata": {},
   "outputs": [],
   "source": [
    "# load the model\n",
    "def load_knn_model():\n",
    "    load_knn_classification_model = pickle.load(open(filename, 'rb'))\n",
    "    return load_knn_classification_model\n",
    "\n",
    "\n",
    "# prepare data for validation\n",
    "def prepare_data(dfnumerical):\n",
    "    # safe the columns and labels in two different variables\n",
    "    X = dfnumerical.iloc[:, :-1].values  # X contains all columns of the dataset but cantralAir\n",
    "    y = dfnumerical.iloc[:, 11].values   # y contains the labels for each row (Y or N), so if it has central air or not\n",
    "\n",
    "    # Feature scaling for normalizing so that each feature contributes approximately proportionately to the final distance.\n",
    "    scaler = StandardScaler()\n",
    "    scaler.fit(X)\n",
    "\n",
    "    X = scaler.transform(X)\n",
    "    \n",
    "    return X, y\n",
    "\n",
    "\n",
    "def test_model(model, X, y):\n",
    "\n",
    "    # make prediction on test data\n",
    "    y_pred = model.predict(X)\n",
    "    \n",
    "    # evaluating the trained model\n",
    "    print(confusion_matrix(y, y_pred))\n",
    "    print(classification_report(y, y_pred))\n",
    "\n",
    "    # calculate TP, TN, FP, FN\n",
    "    tn, fp, fn, tp = confusion_matrix(y, y_pred).ravel()\n",
    "    \n",
    "    # FP, FN, TN and TP in percent\n",
    "    FP_Perc = fp / (tp + fp)\n",
    "    FN_Perc = fn / (tn + fn)\n",
    "    TP_Perc = tp / (tp + fp)\n",
    "    TN_Perc = tn / (tn + fn)\n",
    "\n",
    "    dataPercent = np.array([[TP_Perc, FP_Perc], [FN_Perc, TN_Perc]])\n",
    "    confusion_Matric_Percent_Test = pd.DataFrame(data=dataPercent, index=['Positive', 'Negative'], columns=['Positive', 'Negative'])\n",
    "\n",
    "    return confusion_Matric_Percent_Test"
   ]
  },
  {
   "cell_type": "markdown",
   "metadata": {},
   "source": [
    "Eine Vorhersage zusätzlicher Daten kann im folgenden Codeteil vorgenommen werden. Hierfür muss nur die folgende path Variable angepasst werden."
   ]
  },
  {
   "cell_type": "code",
   "execution_count": 132,
   "metadata": {},
   "outputs": [
    {
     "name": "stdout",
     "output_type": "stream",
     "text": [
      "categoricalCols: ['Zoning Classification', 'Neighborhood', 'Dwelling Type', 'Roof Style', 'Heating Quality and Condition', 'CentralAir']\n",
      "numericalCols: ['Lot Area', 'Overall Quality', 'Overall Condition', 'Year Built', 'Remodel Date', 'Basement Area SF', 'Ground Area SF', 'Total Rooms above Grade', 'Garage Cars', 'Year Sold', 'Sale Price']\n",
      "boolCols: []\n",
      "[[ 31   1]\n",
      " [  1 670]]\n",
      "              precision    recall  f1-score   support\n",
      "\n",
      "           N       0.97      0.97      0.97        32\n",
      "           Y       1.00      1.00      1.00       671\n",
      "\n",
      "    accuracy                           1.00       703\n",
      "   macro avg       0.98      0.98      0.98       703\n",
      "weighted avg       1.00      1.00      1.00       703\n",
      "\n"
     ]
    },
    {
     "data": {
      "text/html": [
       "<div>\n",
       "<style scoped>\n",
       "    .dataframe tbody tr th:only-of-type {\n",
       "        vertical-align: middle;\n",
       "    }\n",
       "\n",
       "    .dataframe tbody tr th {\n",
       "        vertical-align: top;\n",
       "    }\n",
       "\n",
       "    .dataframe thead th {\n",
       "        text-align: right;\n",
       "    }\n",
       "</style>\n",
       "<table border=\"1\" class=\"dataframe\">\n",
       "  <thead>\n",
       "    <tr style=\"text-align: right;\">\n",
       "      <th></th>\n",
       "      <th>Positive</th>\n",
       "      <th>Negative</th>\n",
       "    </tr>\n",
       "  </thead>\n",
       "  <tbody>\n",
       "    <tr>\n",
       "      <td>Positive</td>\n",
       "      <td>0.99851</td>\n",
       "      <td>0.00149</td>\n",
       "    </tr>\n",
       "    <tr>\n",
       "      <td>Negative</td>\n",
       "      <td>0.03125</td>\n",
       "      <td>0.96875</td>\n",
       "    </tr>\n",
       "  </tbody>\n",
       "</table>\n",
       "</div>"
      ],
      "text/plain": [
       "          Positive  Negative\n",
       "Positive   0.99851   0.00149\n",
       "Negative   0.03125   0.96875"
      ]
     },
     "execution_count": 132,
     "metadata": {},
     "output_type": "execute_result"
    }
   ],
   "source": [
    "path = ''\n",
    "\n",
    "#read the data\n",
    "df = read_data(path)\n",
    "\n",
    "#remove non numerical data\n",
    "dfnumerical = remove_non_numerical_columns(df)\n",
    "\n",
    "# seperate labels\n",
    "X, y = prepare_data(dfnumerical)\n",
    "\n",
    "# load saved model\n",
    "model = load_knn_model()\n",
    "\n",
    "# test model\n",
    "confusion_Matric_Percent_Test = test_model(model, X, y)\n",
    "confusion_Matric_Percent_Test.head()"
   ]
  },
  {
   "cell_type": "markdown",
   "metadata": {},
   "source": [
    "## SVM Classification\n",
    "SVM folgt der selben Struktur wie die knn Klassifikation."
   ]
  },
  {
   "cell_type": "code",
   "execution_count": 160,
   "metadata": {},
   "outputs": [],
   "source": [
    "def train_model_SVM(X_train, X_test, y_train, y_test):\n",
    "    \n",
    "    # initiate model with parameter K = 5 \n",
    "    svm_classifier = svm.SVC(kernel='sigmoid') # Linear Kernel\n",
    "\n",
    "    # fit the model to the data\n",
    "    svm_classifier.fit(X_train, y_train)\n",
    "    \n",
    "    return svm_classifier\n",
    "\n",
    "\n",
    "def save_model(model):\n",
    "    # specifying filename for model\n",
    "    filename='svm_model.sav'\n",
    "\n",
    "    # save the model in the created file only executed once\n",
    "    pickle.dump(model, open(filename, 'wb'))\n",
    "    \n",
    "    \n",
    "# load the model\n",
    "def load_svm_model():\n",
    "    load_svm_classification_model = pickle.load(open(filename, 'rb'))\n",
    "    return load_svm_classification_model"
   ]
  },
  {
   "cell_type": "code",
   "execution_count": 156,
   "metadata": {
    "scrolled": false
   },
   "outputs": [
    {
     "name": "stdout",
     "output_type": "stream",
     "text": [
      "categoricalCols: ['Zoning Classification', 'Neighborhood', 'Dwelling Type', 'Roof Style', 'Heating Quality and Condition', 'CentralAir']\n",
      "numericalCols: ['Lot Area', 'Overall Quality', 'Overall Condition', 'Year Built', 'Remodel Date', 'Basement Area SF', 'Ground Area SF', 'Total Rooms above Grade', 'Garage Cars', 'Year Sold', 'Sale Price']\n",
      "boolCols: []\n",
      "[[  2   4]\n",
      " [  1 134]]\n",
      "              precision    recall  f1-score   support\n",
      "\n",
      "           N       0.67      0.33      0.44         6\n",
      "           Y       0.97      0.99      0.98       135\n",
      "\n",
      "    accuracy                           0.96       141\n",
      "   macro avg       0.82      0.66      0.71       141\n",
      "weighted avg       0.96      0.96      0.96       141\n",
      "\n"
     ]
    },
    {
     "data": {
      "text/html": [
       "<div>\n",
       "<style scoped>\n",
       "    .dataframe tbody tr th:only-of-type {\n",
       "        vertical-align: middle;\n",
       "    }\n",
       "\n",
       "    .dataframe tbody tr th {\n",
       "        vertical-align: top;\n",
       "    }\n",
       "\n",
       "    .dataframe thead th {\n",
       "        text-align: right;\n",
       "    }\n",
       "</style>\n",
       "<table border=\"1\" class=\"dataframe\">\n",
       "  <thead>\n",
       "    <tr style=\"text-align: right;\">\n",
       "      <th></th>\n",
       "      <th>Positive</th>\n",
       "      <th>Negative</th>\n",
       "    </tr>\n",
       "  </thead>\n",
       "  <tbody>\n",
       "    <tr>\n",
       "      <td>Positive</td>\n",
       "      <td>0.971014</td>\n",
       "      <td>0.028986</td>\n",
       "    </tr>\n",
       "    <tr>\n",
       "      <td>Negative</td>\n",
       "      <td>0.333333</td>\n",
       "      <td>0.666667</td>\n",
       "    </tr>\n",
       "  </tbody>\n",
       "</table>\n",
       "</div>"
      ],
      "text/plain": [
       "          Positive  Negative\n",
       "Positive  0.971014  0.028986\n",
       "Negative  0.333333  0.666667"
      ]
     },
     "execution_count": 156,
     "metadata": {},
     "output_type": "execute_result"
    }
   ],
   "source": [
    "path = 'cleanedSet.csv'\n",
    "#path = 'SetFiltered.csv'\n",
    "\n",
    "#read the data\n",
    "df = read_data(path)\n",
    "\n",
    "#remove non numerical data\n",
    "dfnumerical = remove_non_numerical_columns(df)\n",
    "dfnumerical.head()\n",
    "\n",
    "# split and process data\n",
    "X_train, X_test, y_train, y_test = preprocessing_and_scaling(dfnumerical)\n",
    "\n",
    "# build model\n",
    "model = train_model(X_train, X_test, y_train, y_test)\n",
    "\n",
    "# evaluate model\n",
    "confusion_Matric_Percent = evaluate_model(model)\n",
    "confusion_Matric_Percent.head()"
   ]
  },
  {
   "cell_type": "code",
   "execution_count": 157,
   "metadata": {},
   "outputs": [],
   "source": [
    "# save_model(model)"
   ]
  },
  {
   "cell_type": "markdown",
   "metadata": {},
   "source": [
    "Eine Vorhersage zusätzlicher Daten kann im folgenden Codeteil vorgenommen werden. Hierfür muss nur die folgende path Variable angepasst werden."
   ]
  },
  {
   "cell_type": "code",
   "execution_count": 161,
   "metadata": {},
   "outputs": [
    {
     "name": "stdout",
     "output_type": "stream",
     "text": [
      "categoricalCols: ['Zoning Classification', 'Neighborhood', 'Dwelling Type', 'Roof Style', 'Heating Quality and Condition', 'CentralAir']\n",
      "numericalCols: ['Lot Area', 'Overall Quality', 'Overall Condition', 'Year Built', 'Remodel Date', 'Basement Area SF', 'Ground Area SF', 'Total Rooms above Grade', 'Garage Cars', 'Year Sold', 'Sale Price']\n",
      "boolCols: []\n",
      "[[ 28   4]\n",
      " [  2 669]]\n",
      "              precision    recall  f1-score   support\n",
      "\n",
      "           N       0.93      0.88      0.90        32\n",
      "           Y       0.99      1.00      1.00       671\n",
      "\n",
      "    accuracy                           0.99       703\n",
      "   macro avg       0.96      0.94      0.95       703\n",
      "weighted avg       0.99      0.99      0.99       703\n",
      "\n"
     ]
    },
    {
     "data": {
      "text/html": [
       "<div>\n",
       "<style scoped>\n",
       "    .dataframe tbody tr th:only-of-type {\n",
       "        vertical-align: middle;\n",
       "    }\n",
       "\n",
       "    .dataframe tbody tr th {\n",
       "        vertical-align: top;\n",
       "    }\n",
       "\n",
       "    .dataframe thead th {\n",
       "        text-align: right;\n",
       "    }\n",
       "</style>\n",
       "<table border=\"1\" class=\"dataframe\">\n",
       "  <thead>\n",
       "    <tr style=\"text-align: right;\">\n",
       "      <th></th>\n",
       "      <th>Positive</th>\n",
       "      <th>Negative</th>\n",
       "    </tr>\n",
       "  </thead>\n",
       "  <tbody>\n",
       "    <tr>\n",
       "      <td>Positive</td>\n",
       "      <td>0.994056</td>\n",
       "      <td>0.005944</td>\n",
       "    </tr>\n",
       "    <tr>\n",
       "      <td>Negative</td>\n",
       "      <td>0.066667</td>\n",
       "      <td>0.933333</td>\n",
       "    </tr>\n",
       "  </tbody>\n",
       "</table>\n",
       "</div>"
      ],
      "text/plain": [
       "          Positive  Negative\n",
       "Positive  0.994056  0.005944\n",
       "Negative  0.066667  0.933333"
      ]
     },
     "execution_count": 161,
     "metadata": {},
     "output_type": "execute_result"
    }
   ],
   "source": [
    "path = ''\n",
    "\n",
    "#read the data\n",
    "df = read_data(path)\n",
    "\n",
    "#remove non numerical data\n",
    "dfnumerical = remove_non_numerical_columns(df)\n",
    "\n",
    "# seperate labels\n",
    "X, y = prepare_data(dfnumerical)\n",
    "\n",
    "# load saved model\n",
    "model = load_svm_model()\n",
    "\n",
    "# test model\n",
    "confusion_Matric_Percent_Test = test_model(model, X, y)\n",
    "confusion_Matric_Percent_Test.head()"
   ]
  }
 ],
 "metadata": {
  "kernelspec": {
   "display_name": "Python 3",
   "language": "python",
   "name": "python3"
  },
  "language_info": {
   "codemirror_mode": {
    "name": "ipython",
    "version": 3
   },
   "file_extension": ".py",
   "mimetype": "text/x-python",
   "name": "python",
   "nbconvert_exporter": "python",
   "pygments_lexer": "ipython3",
   "version": "3.7.4"
  }
 },
 "nbformat": 4,
 "nbformat_minor": 2
}
