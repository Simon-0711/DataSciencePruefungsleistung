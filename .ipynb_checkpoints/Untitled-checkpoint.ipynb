{
 "cells": [
  {
   "cell_type": "code",
   "execution_count": 7,
   "metadata": {},
   "outputs": [
    {
     "name": "stdout",
     "output_type": "stream",
     "text": [
      "    MSZoning;LotArea;Neighborhood;BldgType;OverallQual;OverallCond;YearBuilt;YearRemodAdd;RoofStyle;TotalBsmtSF;HeatingQC;CentralAir;GrLivArea;TotRmsAbvGrd;GarageCars;YrSold;SalePrice\n",
      "0    RL;9590;Timber;1Fam;7;5;2003;2003;Gable;868;Ex...                                                                                                                                 \n",
      "1    RL;12256;NoRidge;1Fam;8;5;1994;1995;Gable;1463...                                                                                                                                 \n",
      "2    RL;12108;Edwards;Duplex;4;4;1955;1955;Gable;14...                                                                                                                                 \n",
      "3    RL;7500;Sawyer;1Fam;5;5;1963;1963;Gable;1040;F...                                                                                                                                 \n",
      "4    RM;6000;OldTown;2fmCon;4;4;1953;1953;Gable;936...                                                                                                                                 \n",
      "..                                                 ...                                                                                                                                 \n",
      "895  RL;8750;CollgCr;1Fam;7;5;1996;1996;Gable;880;E...                                                                                                                                 \n",
      "896  RL;8064;NAmes;1Fam;5;7;1949;2006;Gable;672;Ex;...                                                                                                                                 \n",
      "897  RL;13005;NWAmes;1Fam;7;7;1980;1980;Gable;845;T...                                                                                                                                 \n",
      "898  RL;9375;CollgCr;1Fam;8;5;2002;2002;Gable;1284;...                                                                                                                                 \n",
      "899  RL;9135;CollgCr;1Fam;7;5;2002;2003;Gable;1536;...                                                                                                                                 \n",
      "\n",
      "[900 rows x 1 columns]\n"
     ]
    }
   ],
   "source": [
    "import pandas as pd\n",
    "\n",
    "df = pd.read_csv(r'C:\\Users\\Simon\\Google Drive\\DHBW\\Semester 6\\Daten Analyse\\Prüfungsleistung\\SetFiltered.csv')\n",
    "print(df)"
   ]
  },
  {
   "cell_type": "code",
   "execution_count": null,
   "metadata": {},
   "outputs": [],
   "source": []
  }
 ],
 "metadata": {
  "kernelspec": {
   "display_name": "Python 3",
   "language": "python",
   "name": "python3"
  },
  "language_info": {
   "codemirror_mode": {
    "name": "ipython",
    "version": 3
   },
   "file_extension": ".py",
   "mimetype": "text/x-python",
   "name": "python",
   "nbconvert_exporter": "python",
   "pygments_lexer": "ipython3",
   "version": "3.7.4"
  }
 },
 "nbformat": 4,
 "nbformat_minor": 2
}
